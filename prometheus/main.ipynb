{
 "cells": [
  {
   "cell_type": "markdown",
   "id": "7d08ac56-336d-4cc8-b509-f1d7bbce88d1",
   "metadata": {},
   "source": [
    "# Jupyter notebook pod collection data."
   ]
  },
  {
   "cell_type": "code",
   "execution_count": 1,
   "id": "853e6158-aba4-42c6-b747-efa4e7dfeffc",
   "metadata": {},
   "outputs": [],
   "source": [
    "from prometheus_api_client import PrometheusConnect\n",
    "import datetime\n",
    "import pandas as pd"
   ]
  },
  {
   "cell_type": "markdown",
   "id": "8ffbeb12-ca28-4415-bc1b-369a7a78192e",
   "metadata": {},
   "source": [
    "## Func"
   ]
  },
  {
   "cell_type": "code",
   "execution_count": 2,
   "id": "3ca6714a-ad2f-4eaf-851f-38de2d18c39a",
   "metadata": {},
   "outputs": [],
   "source": [
    "def init_prometheus(prom_url):\n",
    "    \"\"\"\n",
    "        Connect prometheus server.\n",
    "    \"\"\"\n",
    "    return PrometheusConnect(url=prometheus_url, disable_ssl=True)"
   ]
  },
  {
   "cell_type": "code",
   "execution_count": 3,
   "id": "cf4b2e31-f7ed-4c08-a48b-85e4a2849c60",
   "metadata": {},
   "outputs": [],
   "source": [
    "def cpu_usage(prom, pod_name, pod_namespace, option=0):\n",
    "    \"\"\"\n",
    "        Pod CPU usage (per 5m).\n",
    "\n",
    "        Return Type : FLOAT .5\n",
    "\n",
    "        Option\n",
    "            - option=0 -> All Pod.\n",
    "            - option=1 -> istio-proxy container.\n",
    "            - option=2 -> container.\n",
    "    \"\"\"\n",
    "    query = f'rate(container_cpu_usage_seconds_total{{pod=\\\"{pod_name}\\\", namespace=\\\"{pod_namespace}\\\"}}[5m])'\n",
    "    sub_query = 'count(node_cpu_seconds_total)-count(node_cpu_seconds_total{mode=\"idle\"})'\n",
    "    \n",
    "    data = prom.custom_query(query=query)\n",
    "    total_data = prom.custom_query(query=sub_query)\n",
    "\n",
    "    return round((float(data[option]['value'][1]) / float(total_data[0]['value'][1])) * 100, 5)"
   ]
  },
  {
   "cell_type": "code",
   "execution_count": 4,
   "id": "ebae8ba8-95c9-4584-85e4-2b9eb981396c",
   "metadata": {},
   "outputs": [],
   "source": [
    "def mem_usage(prom, pod_name, pod_namespace, option=0):\n",
    "    \"\"\"\n",
    "        Pod Memory usage (per 5m).\n",
    "\n",
    "        Return Type : FLOAT .5\n",
    "\n",
    "        Option\n",
    "            - option=0 -> All Pod.\n",
    "            - option=1 -> Pod Container.\n",
    "            - option=2 -> istio-proxy container.\n",
    "            - option=3 -> container.\n",
    "    \"\"\"\n",
    "    query = f'rate(container_memory_usage_bytes{{pod=\\\"{pod_name}\\\", namespace=\\\"{pod_namespace}\\\"}}[5m])'\n",
    "    sub_query = 'node_memory_MemTotal_bytes'\n",
    "\n",
    "    data = prom.custom_query(query=query)\n",
    "    total_data = prom.custom_query(query=sub_query)\n",
    "\n",
    "    return round((float(data[option]['value'][1]) / (float(total_data[0]['value'][1]) + float(total_data[1]['value'][1]) + float(total_data[2]['value'][1]))) * 100, 5)"
   ]
  },
  {
   "cell_type": "code",
   "execution_count": 5,
   "id": "dd3ba597-58d4-4778-9cd8-79a0e1ad2eda",
   "metadata": {},
   "outputs": [],
   "source": [
    "def pod_status_phase(prom, pod_name, pod_namespace):\n",
    "    \"\"\"\n",
    "        Pod status phase. (Current)\n",
    "        \n",
    "        Return Type : STRING\n",
    "    \"\"\"\n",
    "    query = f'kube_pod_status_phase{{pod=\\\"{pod_name}\\\", namespace=\\\"{pod_namespace}\\\"}}'\n",
    "    data = prom.custom_query(query=query)\n",
    "\n",
    "    status_column = ['Pending', 'Succeeded', 'Failed', 'Unknown', 'Running']\n",
    "    status = []\n",
    "    \n",
    "    for i in data:\n",
    "        status.append(int(i['value'][1]))\n",
    "\n",
    "    return status_column[status.index(1)]"
   ]
  },
  {
   "cell_type": "code",
   "execution_count": 6,
   "id": "bf05b319-d761-4b49-825b-9cb32b0d8c64",
   "metadata": {},
   "outputs": [],
   "source": [
    "def pod_network_transmit(prom, pod_name, pod_namespace):\n",
    "    \"\"\"\n",
    "       Pod network transmit. (byte -> MB)\n",
    "       \n",
    "       Return Type : FLOAT .2\n",
    "    \"\"\"\n",
    "    query = f'rate(container_network_transmit_bytes_total{{pod=\\\"{pod_name}\\\", namespace=\\\"{pod_namespace}\\\"}}[5m])'\n",
    "    data = prom.custom_query(query=query)\n",
    "\n",
    "    return round(float(data[0]['value'][1]) / 1024 / 1024, 2)"
   ]
  },
  {
   "cell_type": "code",
   "execution_count": 7,
   "id": "e143922f-8920-46b9-8614-4766f6e40f66",
   "metadata": {},
   "outputs": [],
   "source": [
    "def pod_fs_usage(prom, pod_name, pod_namespace):\n",
    "    \"\"\"\n",
    "        Pod file system usage. (byte -> MB)\n",
    "        \n",
    "        Return Type : FLOAT .2\n",
    "    \"\"\"\n",
    "    query = f'container_fs_usage_bytes{{pod=\\\"{pod_name}\\\", namespace=\\\"{pod_namespace}\\\"}}'\n",
    "    data = prom.custom_query(query=query)\n",
    "\n",
    "    return round(float(data[2]['value'][1]) / 1024 / 1024, 2)"
   ]
  },
  {
   "cell_type": "code",
   "execution_count": 8,
   "id": "52037b82-98ad-4fe7-8c34-6bd438b7a570",
   "metadata": {},
   "outputs": [],
   "source": [
    "def pod_restart_count(prom, pod_name, pod_namespace):\n",
    "    \"\"\"\n",
    "        Pod restart count.\n",
    "\n",
    "        Return Type : int\n",
    "    \"\"\"\n",
    "    query = f'kube_pod_container_status_restarts_total{{pod=\\\"{pod_name}\\\", namespace=\\\"{pod_namespace}\\\"}}'\n",
    "    data = prom.custom_query(query=query)\n",
    "\n",
    "    return int(data[1]['value'][1])"
   ]
  },
  {
   "cell_type": "code",
   "execution_count": 9,
   "id": "8ce8e24a-e834-4b2e-a367-9da2015e8ca4",
   "metadata": {},
   "outputs": [],
   "source": [
    "def pod_network_packets(prom, pod_name, pod_namespace):\n",
    "    \"\"\"\n",
    "        Pod receive network packets. (per 5m)\n",
    "\n",
    "        Return Type : Float .4\n",
    "    \"\"\"\n",
    "    query = f'rate(container_network_receive_packets_total{{pod=\\\"{pod_name}\\\", namespace=\\\"{pod_namespace}\\\"}}[5m])'\n",
    "    data = prom.custom_query(query=query)\n",
    "\n",
    "    return round(float(data[0]['value'][1]), 4)"
   ]
  },
  {
   "cell_type": "code",
   "execution_count": 10,
   "id": "38072a49-706c-4356-9a56-f4b2849349e2",
   "metadata": {},
   "outputs": [],
   "source": [
    "def pod_disk_read_io(prom, pod_name, pod_namespace):\n",
    "    \"\"\"\n",
    "        Pod disk read. (per 5m)\n",
    "\n",
    "        Return Type : Float .4\n",
    "    \"\"\"\n",
    "    query = f'increase(container_fs_reads_bytes_total{{pod=\\\"{pod_name}\\\", namespace=\\\"{pod_namespace}\\\"}}[5m])'\n",
    "    data = prom.custom_query(query=query)\n",
    "\n",
    "    return round(float(data[0]['value'][1]), 4)"
   ]
  },
  {
   "cell_type": "code",
   "execution_count": 11,
   "id": "8fabc9cf-6082-449a-aab5-1ade9c792845",
   "metadata": {},
   "outputs": [],
   "source": [
    "def pod_disk_write_io(prom, pod_name, pod_namespace):\n",
    "    \"\"\"\n",
    "        Pod disk write. (per 5m)\n",
    "\n",
    "        Return Type : Float .4\n",
    "    \"\"\"\n",
    "    query = f'increase(container_fs_writes_bytes_total{{pod=\\\"{pod_name}\\\", namespace=\\\"{pod_namespace}\\\"}}[5m])'\n",
    "    data = prom.custom_query(query=query)\n",
    "\n",
    "    return round(float(data[0]['value'][1]), 4)"
   ]
  },
  {
   "cell_type": "code",
   "execution_count": 12,
   "id": "a47523d7-92df-4a1c-a0c7-01aedad1ffc8",
   "metadata": {},
   "outputs": [],
   "source": [
    "def pod_age(prom, pod_name, pod_namespace):\n",
    "    \"\"\"\n",
    "        Pod age.\n",
    "\n",
    "        Unit : minute.\n",
    "        Return Type : INT\n",
    "    \"\"\"\n",
    "    query = f'kube_pod_created{{pod=\\\"{pod_name}\\\", namespace=\\\"{pod_namespace}\\\"}}'\n",
    "    data = prom.custom_query(query=query)\n",
    "\n",
    "    return int(data[0]['value'][1])//60"
   ]
  },
  {
   "cell_type": "code",
   "execution_count": 13,
   "id": "c545e989-2224-42cf-8931-cc9c5eb97888",
   "metadata": {},
   "outputs": [],
   "source": [
    "def pod_mem_utilization(prom, pod_name, pod_namespace):\n",
    "    \"\"\"\n",
    "        Pod memory utilization.\n",
    "\n",
    "        Return Type : FLOAT .3\n",
    "    \"\"\"\n",
    "    query = f'container_memory_usage_bytes / container_spec_memory_limit_bytes{{pod=\\\"{pod_name}\\\", namespace=\\\"{pod_namespace}\\\"}}'\n",
    "    data = prom.custom_query(query=query)\n",
    "\n",
    "    return round(float(data[0]['value'][1]),3)"
   ]
  },
  {
   "cell_type": "code",
   "execution_count": 14,
   "id": "80f78a97-d7ee-4743-9f72-10951093b226",
   "metadata": {},
   "outputs": [],
   "source": [
    "def pod_memory_limit(prom, pod_name, pod_namespace):\n",
    "    \"\"\"\n",
    "        Pod memory limit. (byte -> MB)\n",
    "\n",
    "        Return Type : FLOAT .2\n",
    "    \"\"\"\n",
    "    query = f'container_spec_memory_limit_bytes{{pod=\\\"{pod_name}\\\", namespace=\\\"{pod_namespace}\\\"}}'\n",
    "    data = prom.custom_query(query=query)\n",
    "\n",
    "    return round(float(data[3]['value'][1]) / 1024 / 1024, 2)"
   ]
  },
  {
   "cell_type": "code",
   "execution_count": 15,
   "id": "a44bfece-79c5-42cf-8479-5c74fc1adc8e",
   "metadata": {},
   "outputs": [],
   "source": [
    "def pod_cpu_limit(prom, pod_name, pod_namespace):\n",
    "    \"\"\"\n",
    "        Pod CPU limit. (100,000 µs = 1 CPU)\n",
    "\n",
    "        Return Type : FLOAT .2\n",
    "    \"\"\"\n",
    "    query = f'container_spec_cpu_quota{{pod=\\\"{pod_name}\\\", namespace=\\\"{pod_namespace}\\\"}}'\n",
    "    data = prom.custom_query(query=query)\n",
    "\n",
    "    return round(float(data[2]['value'][1])/100000, 2)"
   ]
  },
  {
   "cell_type": "code",
   "execution_count": 16,
   "id": "908c8f68-c021-4ee7-9b89-478933924940",
   "metadata": {},
   "outputs": [],
   "source": [
    "def pod_disk_usage(prom, pod_name, pod_namespace):\n",
    "    \"\"\"\n",
    "        Pod disk usage. (\n",
    "\n",
    "        Return Type : FLOAT .2\n",
    "    \"\"\"\n",
    "    query = f'container_spec_cpu_quota{{pod=\\\"{pod_name}\\\", namespace=\\\"{pod_namespace}\\\"}}'\n",
    "    data = prom.custom_query(query=query)\n",
    "\n",
    "    return round(float(data[2]['value'][1]) / 1024, 2)"
   ]
  },
  {
   "cell_type": "markdown",
   "id": "91f76a99-a16c-45eb-80a5-6ffb31e628f0",
   "metadata": {},
   "source": [
    "## Main"
   ]
  },
  {
   "cell_type": "code",
   "execution_count": null,
   "id": "e34cc175-a548-4d6d-b6e6-0b1f1665640f",
   "metadata": {},
   "outputs": [],
   "source": [
    "prometheus_url = \"URL\"\n",
    "prom = init_prometheus(prometheus_url)\n",
    "\n",
    "\n",
    "jupyter_pod_info = []\n",
    "\n",
    "column_name = [\n",
    "    \"timestamp\", \n",
    "    \"pod_cpu_usage\", \n",
    "    \"pod_mem_usage\", \n",
    "    \"pod_name\", \n",
    "    \"namespace\",\n",
    "    \"status\",\n",
    "    \"network_transmit\",\n",
    "    \"fs_usage\",\n",
    "    \"pod_restart_count\",\n",
    "    \"container_cpu_load\",\n",
    "    \"container_mem_load\",\n",
    "    \"receive_network_packet\",\n",
    "    \"disk_read_io\",\n",
    "    \"disk_write_io\",\n",
    "    \"pod_age\",\n",
    "    \"pod_mem_utilization\",\n",
    "    \"pod_mem_limit\",\n",
    "    \"pod_cpu_limit\",\n",
    "    \"pod_disk_usage\"\n",
    "]\n",
    "\n",
    "# Test Jupyter pod name, pod namespace -> [pod_name, pod_namespace]\n",
    "jupyter_pod_name = []\n",
    "for name in range(10):\n",
    "    jupyter_pod_name.append([f'test-{name+1}-0','kubeflow-user-example-com'])\n",
    "\n",
    "# RUN\n",
    "for pod_count in range(10):\n",
    "    jupyter_pod_info.append(\n",
    "        [\n",
    "            datetime.datetime.now().strftime('%Y-%m-%d %H:%M:%S'), # Timestamp. -0\n",
    "            cpu_usage(prom, jupyter_pod_name[pod_count][0], jupyter_pod_name[pod_count][1], 0), # Pod CPU usage. -1\n",
    "            mem_usage(prom, jupyter_pod_name[pod_count][0], jupyter_pod_name[pod_count][1], 0), # Pod Memory usage. -2\n",
    "            jupyter_pod_name[pod_count][0], # Pod name. -3\n",
    "            jupyter_pod_name[pod_count][1], # Pod namespace. -4\n",
    "            pod_status_phase(prom, jupyter_pod_name[pod_count][0], jupyter_pod_name[pod_count][1]), # Pod status. -5\n",
    "            pod_network_transmit(prom, jupyter_pod_name[pod_count][0], jupyter_pod_name[pod_count][1]), # Network transmit. (MB) -6\n",
    "            pod_fs_usage(prom, jupyter_pod_name[pod_count][0], jupyter_pod_name[pod_count][1]), # Pod file system usage. (MB) -7\n",
    "            pod_restart_count(prom, jupyter_pod_name[pod_count][0], jupyter_pod_name[pod_count][1]), # Pod restart count. -8\n",
    "            cpu_usage(prom, jupyter_pod_name[pod_count][0], jupyter_pod_name[pod_count][1], 2), # Container CPU load. -9\n",
    "            mem_usage(prom, jupyter_pod_name[pod_count][0], jupyter_pod_name[pod_count][1], 3), # Container Memory Load. -10\n",
    "            pod_network_packets(prom, jupyter_pod_name[pod_count][0], jupyter_pod_name[pod_count][1]), # Receive network packets per 5m. -11\n",
    "            pod_disk_read_io(prom, jupyter_pod_name[pod_count][0], jupyter_pod_name[pod_count][1]), # Pod disk read I/O per 5m. -12\n",
    "            pod_disk_write_io(prom, jupyter_pod_name[pod_count][0], jupyter_pod_name[pod_count][1]), # Pod disk write I/O per 5m. -13\n",
    "            pod_age(prom, jupyter_pod_name[pod_count][0], jupyter_pod_name[pod_count][1]), # Pod Age. (Unit: minute) -14\n",
    "            pod_mem_utilization(prom, jupyter_pod_name[pod_count][0], jupyter_pod_name[pod_count][1]), # Pod Memory utilization. -15\n",
    "            pod_memory_limit(prom, jupyter_pod_name[pod_count][0], jupyter_pod_name[pod_count][1]), # Pod Memory limit. (MB) -16\n",
    "            pod_cpu_limit(prom, jupyter_pod_name[pod_count][0], jupyter_pod_name[pod_count][1]), # Pod CPU limit. (Core) -17\n",
    "            pod_disk_usage(prom, jupyter_pod_name[pod_count][0], jupyter_pod_name[pod_count][1]) # Pod disk usage. (MB) -18\n",
    "        ]\n",
    "    )    "
   ]
  },
  {
   "cell_type": "markdown",
   "id": "00337771-0869-4257-8ce2-9df1608700a0",
   "metadata": {},
   "source": [
    "## Save"
   ]
  },
  {
   "cell_type": "code",
   "execution_count": 22,
   "id": "8c7e62f3-6d86-43eb-8684-c2c516ae06dc",
   "metadata": {},
   "outputs": [],
   "source": [
    "df = pd.DataFrame(jupyter_pod_info, columns=column_name)\n",
    "current_time = datetime.datetime.now().strftime(\"%Y%m%d_%H%M%S\")\n",
    "save_path = f\"data/prometheus_data_{current_time}.csv\"\n",
    "df.to_csv(save_path, index=False)"
   ]
  },
  {
   "cell_type": "code",
   "execution_count": null,
   "id": "0b684730-1ecc-4afd-9a31-9bc08133e852",
   "metadata": {},
   "outputs": [],
   "source": []
  }
 ],
 "metadata": {
  "kernelspec": {
   "display_name": "Python 3 (ipykernel)",
   "language": "python",
   "name": "python3"
  },
  "language_info": {
   "codemirror_mode": {
    "name": "ipython",
    "version": 3
   },
   "file_extension": ".py",
   "mimetype": "text/x-python",
   "name": "python",
   "nbconvert_exporter": "python",
   "pygments_lexer": "ipython3",
   "version": "3.11.11"
  }
 },
 "nbformat": 4,
 "nbformat_minor": 5
}
